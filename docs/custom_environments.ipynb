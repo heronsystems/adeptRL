{
 "cells": [
  {
   "cell_type": "code",
   "execution_count": null,
   "metadata": {
    "collapsed": true
   },
   "outputs": [],
   "source": [
    "from adept.environments import EnvPlugin\n",
    "\n",
    "class Hanoi(EnvPlugin):\n",
    "    @classmethod\n",
    "    def from_args(cls, args, seed, **kwargs):\n",
    "        pass\n",
    "\n",
    "    def step(self, action):\n",
    "        pass\n",
    "\n",
    "    def reset(self, **kwargs):\n",
    "        pass\n",
    "\n",
    "    def close(self):\n",
    "        pass"
   ]
  }
 ],
 "metadata": {
  "kernelspec": {
   "display_name": "Python 2",
   "language": "python",
   "name": "python2"
  },
  "language_info": {
   "codemirror_mode": {
    "name": "ipython",
    "version": 2
   },
   "file_extension": ".py",
   "mimetype": "text/x-python",
   "name": "python",
   "nbconvert_exporter": "python",
   "pygments_lexer": "ipython2",
   "version": "2.7.6"
  }
 },
 "nbformat": 4,
 "nbformat_minor": 0
}
